{
 "cells": [
  {
   "cell_type": "markdown",
   "metadata": {},
   "source": [
    "## Сложные выборки с помощью масок (значений True и False)"
   ]
  },
  {
   "cell_type": "code",
   "execution_count": 372,
   "metadata": {},
   "outputs": [
    {
     "name": "stdout",
     "output_type": "stream",
     "text": [
      "imdb-dataset-of-top-1000-movies-and-tv-shows.zip: Skipping, found more recently modified local copy (use --force to force download)\n"
     ]
    }
   ],
   "source": [
    "!kaggle datasets download -d harshitshankhdhar/imdb-dataset-of-top-1000-movies-and-tv-shows"
   ]
  },
  {
   "cell_type": "code",
   "execution_count": 373,
   "metadata": {},
   "outputs": [
    {
     "data": {
      "text/html": [
       "<div>\n",
       "<style scoped>\n",
       "    .dataframe tbody tr th:only-of-type {\n",
       "        vertical-align: middle;\n",
       "    }\n",
       "\n",
       "    .dataframe tbody tr th {\n",
       "        vertical-align: top;\n",
       "    }\n",
       "\n",
       "    .dataframe thead th {\n",
       "        text-align: right;\n",
       "    }\n",
       "</style>\n",
       "<table border=\"1\" class=\"dataframe\">\n",
       "  <thead>\n",
       "    <tr style=\"text-align: right;\">\n",
       "      <th></th>\n",
       "      <th>Released_Year</th>\n",
       "      <th>Genre</th>\n",
       "      <th>Runtime</th>\n",
       "      <th>IMDB_Rating</th>\n",
       "      <th>Director</th>\n",
       "      <th>No_of_Votes</th>\n",
       "      <th>Gross</th>\n",
       "    </tr>\n",
       "  </thead>\n",
       "  <tbody>\n",
       "    <tr>\n",
       "      <th>0</th>\n",
       "      <td>1994</td>\n",
       "      <td>Drama</td>\n",
       "      <td>142 min</td>\n",
       "      <td>9.3</td>\n",
       "      <td>Frank Darabont</td>\n",
       "      <td>2343110</td>\n",
       "      <td>28,341,469</td>\n",
       "    </tr>\n",
       "    <tr>\n",
       "      <th>1</th>\n",
       "      <td>1972</td>\n",
       "      <td>Crime, Drama</td>\n",
       "      <td>175 min</td>\n",
       "      <td>9.2</td>\n",
       "      <td>Francis Ford Coppola</td>\n",
       "      <td>1620367</td>\n",
       "      <td>134,966,411</td>\n",
       "    </tr>\n",
       "    <tr>\n",
       "      <th>2</th>\n",
       "      <td>2008</td>\n",
       "      <td>Action, Crime, Drama</td>\n",
       "      <td>152 min</td>\n",
       "      <td>9.0</td>\n",
       "      <td>Christopher Nolan</td>\n",
       "      <td>2303232</td>\n",
       "      <td>534,858,444</td>\n",
       "    </tr>\n",
       "    <tr>\n",
       "      <th>3</th>\n",
       "      <td>1974</td>\n",
       "      <td>Crime, Drama</td>\n",
       "      <td>202 min</td>\n",
       "      <td>9.0</td>\n",
       "      <td>Francis Ford Coppola</td>\n",
       "      <td>1129952</td>\n",
       "      <td>57,300,000</td>\n",
       "    </tr>\n",
       "    <tr>\n",
       "      <th>4</th>\n",
       "      <td>1957</td>\n",
       "      <td>Crime, Drama</td>\n",
       "      <td>96 min</td>\n",
       "      <td>9.0</td>\n",
       "      <td>Sidney Lumet</td>\n",
       "      <td>689845</td>\n",
       "      <td>4,360,000</td>\n",
       "    </tr>\n",
       "    <tr>\n",
       "      <th>...</th>\n",
       "      <td>...</td>\n",
       "      <td>...</td>\n",
       "      <td>...</td>\n",
       "      <td>...</td>\n",
       "      <td>...</td>\n",
       "      <td>...</td>\n",
       "      <td>...</td>\n",
       "    </tr>\n",
       "    <tr>\n",
       "      <th>995</th>\n",
       "      <td>1961</td>\n",
       "      <td>Comedy, Drama, Romance</td>\n",
       "      <td>115 min</td>\n",
       "      <td>7.6</td>\n",
       "      <td>Blake Edwards</td>\n",
       "      <td>166544</td>\n",
       "      <td>NaN</td>\n",
       "    </tr>\n",
       "    <tr>\n",
       "      <th>996</th>\n",
       "      <td>1956</td>\n",
       "      <td>Drama, Western</td>\n",
       "      <td>201 min</td>\n",
       "      <td>7.6</td>\n",
       "      <td>George Stevens</td>\n",
       "      <td>34075</td>\n",
       "      <td>NaN</td>\n",
       "    </tr>\n",
       "    <tr>\n",
       "      <th>997</th>\n",
       "      <td>1953</td>\n",
       "      <td>Drama, Romance, War</td>\n",
       "      <td>118 min</td>\n",
       "      <td>7.6</td>\n",
       "      <td>Fred Zinnemann</td>\n",
       "      <td>43374</td>\n",
       "      <td>30,500,000</td>\n",
       "    </tr>\n",
       "    <tr>\n",
       "      <th>998</th>\n",
       "      <td>1944</td>\n",
       "      <td>Drama, War</td>\n",
       "      <td>97 min</td>\n",
       "      <td>7.6</td>\n",
       "      <td>Alfred Hitchcock</td>\n",
       "      <td>26471</td>\n",
       "      <td>NaN</td>\n",
       "    </tr>\n",
       "    <tr>\n",
       "      <th>999</th>\n",
       "      <td>1935</td>\n",
       "      <td>Crime, Mystery, Thriller</td>\n",
       "      <td>86 min</td>\n",
       "      <td>7.6</td>\n",
       "      <td>Alfred Hitchcock</td>\n",
       "      <td>51853</td>\n",
       "      <td>NaN</td>\n",
       "    </tr>\n",
       "  </tbody>\n",
       "</table>\n",
       "<p>1000 rows × 7 columns</p>\n",
       "</div>"
      ],
      "text/plain": [
       "    Released_Year                     Genre  Runtime  IMDB_Rating  \\\n",
       "0            1994                     Drama  142 min          9.3   \n",
       "1            1972              Crime, Drama  175 min          9.2   \n",
       "2            2008      Action, Crime, Drama  152 min          9.0   \n",
       "3            1974              Crime, Drama  202 min          9.0   \n",
       "4            1957              Crime, Drama   96 min          9.0   \n",
       "..            ...                       ...      ...          ...   \n",
       "995          1961    Comedy, Drama, Romance  115 min          7.6   \n",
       "996          1956            Drama, Western  201 min          7.6   \n",
       "997          1953       Drama, Romance, War  118 min          7.6   \n",
       "998          1944                Drama, War   97 min          7.6   \n",
       "999          1935  Crime, Mystery, Thriller   86 min          7.6   \n",
       "\n",
       "                 Director  No_of_Votes        Gross  \n",
       "0          Frank Darabont      2343110   28,341,469  \n",
       "1    Francis Ford Coppola      1620367  134,966,411  \n",
       "2       Christopher Nolan      2303232  534,858,444  \n",
       "3    Francis Ford Coppola      1129952   57,300,000  \n",
       "4            Sidney Lumet       689845    4,360,000  \n",
       "..                    ...          ...          ...  \n",
       "995         Blake Edwards       166544          NaN  \n",
       "996        George Stevens        34075          NaN  \n",
       "997        Fred Zinnemann        43374   30,500,000  \n",
       "998      Alfred Hitchcock        26471          NaN  \n",
       "999      Alfred Hitchcock        51853          NaN  \n",
       "\n",
       "[1000 rows x 7 columns]"
      ]
     },
     "execution_count": 373,
     "metadata": {},
     "output_type": "execute_result"
    }
   ],
   "source": [
    "import pandas as pd\n",
    "im = pd.read_csv('C:\\\\Users\\\\mob19\\\\OneDrive\\\\Рабочий стол\\\\data\\\\imdb-dataset-of-top-1000-movies-and-tv-shows\\\\imdb_top_1000.csv')\n",
    "# im.info() # смотрим названия колонок и тип их данных\n",
    "mv = im[['Released_Year','Genre','Runtime','IMDB_Rating','Director','No_of_Votes','Gross']]\n",
    "mv"
   ]
  },
  {
   "cell_type": "code",
   "execution_count": 374,
   "metadata": {},
   "outputs": [],
   "source": [
    "mv = im[['Series_Title','Released_Year','Genre','Runtime','IMDB_Rating','Director','No_of_Votes','Gross','Star1','Star2','Star3','Star4']].copy()\n",
    "# mask1 = mv['IMDB_Rating'] > 9.1 # Movies with high rate\n",
    "# # mask1\n",
    "# mask2 = mv['IMDB_Rating'] < 7.7 # Movies with low rate\n",
    "# mv[mask1]\n",
    "# mv[mask2]\n",
    "# mask3 = mv['Released_Year'] > 2019\n",
    "# mv[mask2 & mask]"
   ]
  },
  {
   "cell_type": "markdown",
   "metadata": {},
   "source": [
    "### Модификация отдельных типов данных"
   ]
  },
  {
   "cell_type": "markdown",
   "metadata": {},
   "source": [
    "#### Привести типы "
   ]
  },
  {
   "cell_type": "code",
   "execution_count": 375,
   "metadata": {},
   "outputs": [
    {
     "data": {
      "text/html": [
       "<div>\n",
       "<style scoped>\n",
       "    .dataframe tbody tr th:only-of-type {\n",
       "        vertical-align: middle;\n",
       "    }\n",
       "\n",
       "    .dataframe tbody tr th {\n",
       "        vertical-align: top;\n",
       "    }\n",
       "\n",
       "    .dataframe thead th {\n",
       "        text-align: right;\n",
       "    }\n",
       "</style>\n",
       "<table border=\"1\" class=\"dataframe\">\n",
       "  <thead>\n",
       "    <tr style=\"text-align: right;\">\n",
       "      <th></th>\n",
       "      <th>Released_Year</th>\n",
       "      <th>Runtime</th>\n",
       "      <th>Gross</th>\n",
       "    </tr>\n",
       "  </thead>\n",
       "  <tbody>\n",
       "    <tr>\n",
       "      <th>0</th>\n",
       "      <td>1994</td>\n",
       "      <td>142 min</td>\n",
       "      <td>28,341,469</td>\n",
       "    </tr>\n",
       "    <tr>\n",
       "      <th>1</th>\n",
       "      <td>1972</td>\n",
       "      <td>175 min</td>\n",
       "      <td>134,966,411</td>\n",
       "    </tr>\n",
       "    <tr>\n",
       "      <th>2</th>\n",
       "      <td>2008</td>\n",
       "      <td>152 min</td>\n",
       "      <td>534,858,444</td>\n",
       "    </tr>\n",
       "    <tr>\n",
       "      <th>3</th>\n",
       "      <td>1974</td>\n",
       "      <td>202 min</td>\n",
       "      <td>57,300,000</td>\n",
       "    </tr>\n",
       "    <tr>\n",
       "      <th>4</th>\n",
       "      <td>1957</td>\n",
       "      <td>96 min</td>\n",
       "      <td>4,360,000</td>\n",
       "    </tr>\n",
       "    <tr>\n",
       "      <th>...</th>\n",
       "      <td>...</td>\n",
       "      <td>...</td>\n",
       "      <td>...</td>\n",
       "    </tr>\n",
       "    <tr>\n",
       "      <th>995</th>\n",
       "      <td>1961</td>\n",
       "      <td>115 min</td>\n",
       "      <td>NaN</td>\n",
       "    </tr>\n",
       "    <tr>\n",
       "      <th>996</th>\n",
       "      <td>1956</td>\n",
       "      <td>201 min</td>\n",
       "      <td>NaN</td>\n",
       "    </tr>\n",
       "    <tr>\n",
       "      <th>997</th>\n",
       "      <td>1953</td>\n",
       "      <td>118 min</td>\n",
       "      <td>30,500,000</td>\n",
       "    </tr>\n",
       "    <tr>\n",
       "      <th>998</th>\n",
       "      <td>1944</td>\n",
       "      <td>97 min</td>\n",
       "      <td>NaN</td>\n",
       "    </tr>\n",
       "    <tr>\n",
       "      <th>999</th>\n",
       "      <td>1935</td>\n",
       "      <td>86 min</td>\n",
       "      <td>NaN</td>\n",
       "    </tr>\n",
       "  </tbody>\n",
       "</table>\n",
       "<p>1000 rows × 3 columns</p>\n",
       "</div>"
      ],
      "text/plain": [
       "    Released_Year  Runtime        Gross\n",
       "0            1994  142 min   28,341,469\n",
       "1            1972  175 min  134,966,411\n",
       "2            2008  152 min  534,858,444\n",
       "3            1974  202 min   57,300,000\n",
       "4            1957   96 min    4,360,000\n",
       "..            ...      ...          ...\n",
       "995          1961  115 min          NaN\n",
       "996          1956  201 min          NaN\n",
       "997          1953  118 min   30,500,000\n",
       "998          1944   97 min          NaN\n",
       "999          1935   86 min          NaN\n",
       "\n",
       "[1000 rows x 3 columns]"
      ]
     },
     "execution_count": 375,
     "metadata": {},
     "output_type": "execute_result"
    }
   ],
   "source": [
    "mv.dtypes\n",
    "# mv.select_dtypes('object') # выведет колонки с типом объект\n",
    "cols_to_modify = mv.select_dtypes('object').columns\n",
    "cols_to_modify\n",
    "mv[['Released_Year','Runtime', 'Gross']]\n",
    "# mv.Released_Year.astype('Int64')\n",
    "# mask = mv.Released_Year == 'PG'\n",
    "# # list(mv[mask].index)\n",
    "# for i in list(mv[mask].index):\n",
    "#     mv.loc[i,'Released_Year'] = 1999\n",
    "\n",
    "# mv['Released_Year']pd.to_numeric(mv['Released_Year'],errors='coerse')\n"
   ]
  },
  {
   "cell_type": "code",
   "execution_count": 376,
   "metadata": {},
   "outputs": [],
   "source": [
    "mv['Released_Year'] = pd.to_numeric(mv['Released_Year'],errors='coerce')# downcast='float')\n",
    "mv.iloc[966]\n",
    "# mv.dtypes\n",
    "sy = mv['Released_Year'].astype(float)\n",
    "mv.loc[:,'Released_Year'] = sy\n",
    "# mv.dtypes\n",
    "\n",
    "mv['Runtime'] = mv['Runtime'].astype('string')\n",
    "mv['Runtime'] = mv['Runtime'].str[:-4] # removed ' min'         \n",
    "mv['Runtime'] = mv['Runtime'].astype('Int32')\n",
    "# mv['Runtime']\n",
    "pd.to_numeric(mv['Gross'].str.replace(',',''), errors='ignore')\n",
    "mv.loc[:,['Series_Title','Director']] = mv[['Series_Title','Director']].astype('string')\n",
    "mv['Gross'] = pd.to_numeric(mv['Gross'].str.replace(',',''), errors='ignore')\n",
    "\n",
    "mv['Genre'] = mv['Genre'].astype('string')\n",
    "mv['Star1'] = mv['Star1'].astype('string')\n",
    "mv['Star2'] = mv['Star2'].astype('string')\n",
    "mv['Star3'] = mv['Star3'].astype('string')\n",
    "mv['Star4'] = mv['Star4'].astype('string')"
   ]
  },
  {
   "cell_type": "code",
   "execution_count": 440,
   "metadata": {},
   "outputs": [
    {
     "name": "stdout",
     "output_type": "stream",
     "text": [
      "<class 'pandas.core.frame.DataFrame'>\n",
      "RangeIndex: 1000 entries, 0 to 999\n",
      "Data columns (total 10 columns):\n",
      " #   Column         Non-Null Count  Dtype  \n",
      "---  ------         --------------  -----  \n",
      " 0   Series_Title   1000 non-null   string \n",
      " 1   Released_Year  999 non-null    float64\n",
      " 2   Genre          1000 non-null   object \n",
      " 3   Runtime        1000 non-null   Int32  \n",
      " 4   IMDB_Rating    1000 non-null   float64\n",
      " 5   Director       1000 non-null   string \n",
      " 6   No_of_Votes    1000 non-null   int64  \n",
      " 7   Gross          831 non-null    float64\n",
      " 8   Stars          1000 non-null   object \n",
      " 9   minuteCost     1000 non-null   Float64\n",
      "dtypes: Float64(1), Int32(1), float64(3), int64(1), object(2), string(2)\n",
      "memory usage: 76.3+ KB\n"
     ]
    }
   ],
   "source": [
    "mv.info()"
   ]
  },
  {
   "cell_type": "code",
   "execution_count": 378,
   "metadata": {},
   "outputs": [],
   "source": [
    "# mv['Gross'].astype('string').str.replace(',','')\n",
    "# pd.to_numeric(mv['Gross'].str.replace(',',''), errors='ignore')\n",
    "# mv['Gross'] = pd.to_numeric(mv['Gross'].str.replace(',',''), errors='ignore')\n"
   ]
  },
  {
   "cell_type": "code",
   "execution_count": 379,
   "metadata": {},
   "outputs": [],
   "source": [
    "# mv.loc[:,['Series_Title','Director']] = mv[['Series_Title','Director']].astype('string')"
   ]
  },
  {
   "cell_type": "markdown",
   "metadata": {},
   "source": [
    "## Преобразование серий с текстовыми значениями"
   ]
  },
  {
   "cell_type": "code",
   "execution_count": 380,
   "metadata": {},
   "outputs": [],
   "source": [
    "mv['Genre'] = mv['Genre'].str.split(', ')\n",
    "# type(mv['Genre'].str.split(', ').iloc[0])"
   ]
  },
  {
   "cell_type": "code",
   "execution_count": 381,
   "metadata": {},
   "outputs": [
    {
     "data": {
      "text/html": [
       "<div>\n",
       "<style scoped>\n",
       "    .dataframe tbody tr th:only-of-type {\n",
       "        vertical-align: middle;\n",
       "    }\n",
       "\n",
       "    .dataframe tbody tr th {\n",
       "        vertical-align: top;\n",
       "    }\n",
       "\n",
       "    .dataframe thead th {\n",
       "        text-align: right;\n",
       "    }\n",
       "</style>\n",
       "<table border=\"1\" class=\"dataframe\">\n",
       "  <thead>\n",
       "    <tr style=\"text-align: right;\">\n",
       "      <th></th>\n",
       "      <th>Series_Title</th>\n",
       "      <th>Released_Year</th>\n",
       "      <th>Genre</th>\n",
       "      <th>Runtime</th>\n",
       "      <th>IMDB_Rating</th>\n",
       "      <th>Director</th>\n",
       "      <th>No_of_Votes</th>\n",
       "      <th>Gross</th>\n",
       "      <th>Stars</th>\n",
       "    </tr>\n",
       "  </thead>\n",
       "  <tbody>\n",
       "    <tr>\n",
       "      <th>0</th>\n",
       "      <td>The Shawshank Redemption</td>\n",
       "      <td>1994.0</td>\n",
       "      <td>[Drama]</td>\n",
       "      <td>142</td>\n",
       "      <td>9.3</td>\n",
       "      <td>Frank Darabont</td>\n",
       "      <td>2343110</td>\n",
       "      <td>28341469.0</td>\n",
       "      <td>[Tim Robbins, Morgan Freeman, Bob Gunton, Will...</td>\n",
       "    </tr>\n",
       "    <tr>\n",
       "      <th>1</th>\n",
       "      <td>The Godfather</td>\n",
       "      <td>1972.0</td>\n",
       "      <td>[Crime, Drama]</td>\n",
       "      <td>175</td>\n",
       "      <td>9.2</td>\n",
       "      <td>Francis Ford Coppola</td>\n",
       "      <td>1620367</td>\n",
       "      <td>134966411.0</td>\n",
       "      <td>[Marlon Brando, Al Pacino, James Caan, Diane K...</td>\n",
       "    </tr>\n",
       "    <tr>\n",
       "      <th>2</th>\n",
       "      <td>The Dark Knight</td>\n",
       "      <td>2008.0</td>\n",
       "      <td>[Action, Crime, Drama]</td>\n",
       "      <td>152</td>\n",
       "      <td>9.0</td>\n",
       "      <td>Christopher Nolan</td>\n",
       "      <td>2303232</td>\n",
       "      <td>534858444.0</td>\n",
       "      <td>[Christian Bale, Heath Ledger, Aaron Eckhart, ...</td>\n",
       "    </tr>\n",
       "    <tr>\n",
       "      <th>3</th>\n",
       "      <td>The Godfather: Part II</td>\n",
       "      <td>1974.0</td>\n",
       "      <td>[Crime, Drama]</td>\n",
       "      <td>202</td>\n",
       "      <td>9.0</td>\n",
       "      <td>Francis Ford Coppola</td>\n",
       "      <td>1129952</td>\n",
       "      <td>57300000.0</td>\n",
       "      <td>[Al Pacino, Robert De Niro, Robert Duvall, Dia...</td>\n",
       "    </tr>\n",
       "    <tr>\n",
       "      <th>4</th>\n",
       "      <td>12 Angry Men</td>\n",
       "      <td>1957.0</td>\n",
       "      <td>[Crime, Drama]</td>\n",
       "      <td>96</td>\n",
       "      <td>9.0</td>\n",
       "      <td>Sidney Lumet</td>\n",
       "      <td>689845</td>\n",
       "      <td>4360000.0</td>\n",
       "      <td>[Henry Fonda, Lee J. Cobb, Martin Balsam, John...</td>\n",
       "    </tr>\n",
       "    <tr>\n",
       "      <th>...</th>\n",
       "      <td>...</td>\n",
       "      <td>...</td>\n",
       "      <td>...</td>\n",
       "      <td>...</td>\n",
       "      <td>...</td>\n",
       "      <td>...</td>\n",
       "      <td>...</td>\n",
       "      <td>...</td>\n",
       "      <td>...</td>\n",
       "    </tr>\n",
       "    <tr>\n",
       "      <th>995</th>\n",
       "      <td>Breakfast at Tiffany's</td>\n",
       "      <td>1961.0</td>\n",
       "      <td>[Comedy, Drama, Romance]</td>\n",
       "      <td>115</td>\n",
       "      <td>7.6</td>\n",
       "      <td>Blake Edwards</td>\n",
       "      <td>166544</td>\n",
       "      <td>NaN</td>\n",
       "      <td>[Audrey Hepburn, George Peppard, Patricia Neal...</td>\n",
       "    </tr>\n",
       "    <tr>\n",
       "      <th>996</th>\n",
       "      <td>Giant</td>\n",
       "      <td>1956.0</td>\n",
       "      <td>[Drama, Western]</td>\n",
       "      <td>201</td>\n",
       "      <td>7.6</td>\n",
       "      <td>George Stevens</td>\n",
       "      <td>34075</td>\n",
       "      <td>NaN</td>\n",
       "      <td>[Elizabeth Taylor, Rock Hudson, James Dean, Ca...</td>\n",
       "    </tr>\n",
       "    <tr>\n",
       "      <th>997</th>\n",
       "      <td>From Here to Eternity</td>\n",
       "      <td>1953.0</td>\n",
       "      <td>[Drama, Romance, War]</td>\n",
       "      <td>118</td>\n",
       "      <td>7.6</td>\n",
       "      <td>Fred Zinnemann</td>\n",
       "      <td>43374</td>\n",
       "      <td>30500000.0</td>\n",
       "      <td>[Burt Lancaster, Montgomery Clift, Deborah Ker...</td>\n",
       "    </tr>\n",
       "    <tr>\n",
       "      <th>998</th>\n",
       "      <td>Lifeboat</td>\n",
       "      <td>1944.0</td>\n",
       "      <td>[Drama, War]</td>\n",
       "      <td>97</td>\n",
       "      <td>7.6</td>\n",
       "      <td>Alfred Hitchcock</td>\n",
       "      <td>26471</td>\n",
       "      <td>NaN</td>\n",
       "      <td>[Tallulah Bankhead, John Hodiak, Walter Slezak...</td>\n",
       "    </tr>\n",
       "    <tr>\n",
       "      <th>999</th>\n",
       "      <td>The 39 Steps</td>\n",
       "      <td>1935.0</td>\n",
       "      <td>[Crime, Mystery, Thriller]</td>\n",
       "      <td>86</td>\n",
       "      <td>7.6</td>\n",
       "      <td>Alfred Hitchcock</td>\n",
       "      <td>51853</td>\n",
       "      <td>NaN</td>\n",
       "      <td>[Robert Donat, Madeleine Carroll, Lucie Mannhe...</td>\n",
       "    </tr>\n",
       "  </tbody>\n",
       "</table>\n",
       "<p>1000 rows × 9 columns</p>\n",
       "</div>"
      ],
      "text/plain": [
       "                 Series_Title  Released_Year                       Genre  \\\n",
       "0    The Shawshank Redemption         1994.0                     [Drama]   \n",
       "1               The Godfather         1972.0              [Crime, Drama]   \n",
       "2             The Dark Knight         2008.0      [Action, Crime, Drama]   \n",
       "3      The Godfather: Part II         1974.0              [Crime, Drama]   \n",
       "4                12 Angry Men         1957.0              [Crime, Drama]   \n",
       "..                        ...            ...                         ...   \n",
       "995    Breakfast at Tiffany's         1961.0    [Comedy, Drama, Romance]   \n",
       "996                     Giant         1956.0            [Drama, Western]   \n",
       "997     From Here to Eternity         1953.0       [Drama, Romance, War]   \n",
       "998                  Lifeboat         1944.0                [Drama, War]   \n",
       "999              The 39 Steps         1935.0  [Crime, Mystery, Thriller]   \n",
       "\n",
       "     Runtime  IMDB_Rating              Director  No_of_Votes        Gross  \\\n",
       "0        142          9.3        Frank Darabont      2343110   28341469.0   \n",
       "1        175          9.2  Francis Ford Coppola      1620367  134966411.0   \n",
       "2        152          9.0     Christopher Nolan      2303232  534858444.0   \n",
       "3        202          9.0  Francis Ford Coppola      1129952   57300000.0   \n",
       "4         96          9.0          Sidney Lumet       689845    4360000.0   \n",
       "..       ...          ...                   ...          ...          ...   \n",
       "995      115          7.6         Blake Edwards       166544          NaN   \n",
       "996      201          7.6        George Stevens        34075          NaN   \n",
       "997      118          7.6        Fred Zinnemann        43374   30500000.0   \n",
       "998       97          7.6      Alfred Hitchcock        26471          NaN   \n",
       "999       86          7.6      Alfred Hitchcock        51853          NaN   \n",
       "\n",
       "                                                 Stars  \n",
       "0    [Tim Robbins, Morgan Freeman, Bob Gunton, Will...  \n",
       "1    [Marlon Brando, Al Pacino, James Caan, Diane K...  \n",
       "2    [Christian Bale, Heath Ledger, Aaron Eckhart, ...  \n",
       "3    [Al Pacino, Robert De Niro, Robert Duvall, Dia...  \n",
       "4    [Henry Fonda, Lee J. Cobb, Martin Balsam, John...  \n",
       "..                                                 ...  \n",
       "995  [Audrey Hepburn, George Peppard, Patricia Neal...  \n",
       "996  [Elizabeth Taylor, Rock Hudson, James Dean, Ca...  \n",
       "997  [Burt Lancaster, Montgomery Clift, Deborah Ker...  \n",
       "998  [Tallulah Bankhead, John Hodiak, Walter Slezak...  \n",
       "999  [Robert Donat, Madeleine Carroll, Lucie Mannhe...  \n",
       "\n",
       "[1000 rows x 9 columns]"
      ]
     },
     "execution_count": 381,
     "metadata": {},
     "output_type": "execute_result"
    }
   ],
   "source": [
    "mv['Stars'] = mv.loc[:,['Star1','Star2','Star3','Star4']].apply(list,axis=1)\n",
    "# mv.head()\n",
    "mv.drop(labels = ['Star1','Star2','Star3','Star4'], axis=1,inplace=True)\n",
    "# mv = mv.drop(columns = ['Star1','Star2','Star3','Star4'], inplace=True)\n",
    "\n",
    "mv"
   ]
  },
  {
   "cell_type": "code",
   "execution_count": 382,
   "metadata": {},
   "outputs": [
    {
     "data": {
      "text/plain": [
       "Index              128\n",
       "Series_Title     73676\n",
       "Released_Year     8000\n",
       "Genre            80000\n",
       "Runtime           5000\n",
       "IMDB_Rating       8000\n",
       "Director         71566\n",
       "No_of_Votes       8000\n",
       "Gross             8000\n",
       "Stars            80000\n",
       "dtype: int64"
      ]
     },
     "execution_count": 382,
     "metadata": {},
     "output_type": "execute_result"
    }
   ],
   "source": [
    "mv.memory_usage(deep=True) # Сколько занимает места"
   ]
  },
  {
   "cell_type": "code",
   "execution_count": 435,
   "metadata": {},
   "outputs": [
    {
     "data": {
      "text/html": [
       "<div>\n",
       "<style scoped>\n",
       "    .dataframe tbody tr th:only-of-type {\n",
       "        vertical-align: middle;\n",
       "    }\n",
       "\n",
       "    .dataframe tbody tr th {\n",
       "        vertical-align: top;\n",
       "    }\n",
       "\n",
       "    .dataframe thead th {\n",
       "        text-align: right;\n",
       "    }\n",
       "</style>\n",
       "<table border=\"1\" class=\"dataframe\">\n",
       "  <thead>\n",
       "    <tr style=\"text-align: right;\">\n",
       "      <th></th>\n",
       "      <th>Series_Title</th>\n",
       "      <th>Released_Year</th>\n",
       "      <th>Genre</th>\n",
       "      <th>Runtime</th>\n",
       "      <th>IMDB_Rating</th>\n",
       "      <th>Director</th>\n",
       "      <th>No_of_Votes</th>\n",
       "      <th>Gross</th>\n",
       "      <th>Stars</th>\n",
       "      <th>minuteCost</th>\n",
       "    </tr>\n",
       "  </thead>\n",
       "  <tbody>\n",
       "    <tr>\n",
       "      <th>140</th>\n",
       "      <td>Gangs of Wasseypur</td>\n",
       "      <td>2012.0</td>\n",
       "      <td>[Action, Comedy, Crime]</td>\n",
       "      <td>321</td>\n",
       "      <td>8.2</td>\n",
       "      <td>Anurag Kashyap</td>\n",
       "      <td>82365</td>\n",
       "      <td>NaN</td>\n",
       "      <td>[Manoj Bajpayee, Richa Chadha, Nawazuddin Sidd...</td>\n",
       "      <td>NaN</td>\n",
       "    </tr>\n",
       "  </tbody>\n",
       "</table>\n",
       "</div>"
      ],
      "text/plain": [
       "           Series_Title  Released_Year                    Genre  Runtime  \\\n",
       "140  Gangs of Wasseypur         2012.0  [Action, Comedy, Crime]      321   \n",
       "\n",
       "     IMDB_Rating        Director  No_of_Votes  Gross  \\\n",
       "140          8.2  Anurag Kashyap        82365    NaN   \n",
       "\n",
       "                                                 Stars  minuteCost  \n",
       "140  [Manoj Bajpayee, Richa Chadha, Nawazuddin Sidd...         NaN  "
      ]
     },
     "execution_count": 435,
     "metadata": {},
     "output_type": "execute_result"
    }
   ],
   "source": [
    "# Фильм с наибольшим бюджетом\n",
    "maxGross = mv['Gross'].max()\n",
    "mv.loc[mv['Gross'] == maxGross]\n",
    "\n",
    "# Самый длинный фильм\n",
    "maxlen = mv['Runtime'].max()\n",
    "mv.loc[mv['Runtime'] == maxlen]"
   ]
  },
  {
   "cell_type": "code",
   "execution_count": 434,
   "metadata": {},
   "outputs": [
    {
     "data": {
      "text/html": [
       "<div>\n",
       "<style scoped>\n",
       "    .dataframe tbody tr th:only-of-type {\n",
       "        vertical-align: middle;\n",
       "    }\n",
       "\n",
       "    .dataframe tbody tr th {\n",
       "        vertical-align: top;\n",
       "    }\n",
       "\n",
       "    .dataframe thead th {\n",
       "        text-align: right;\n",
       "    }\n",
       "</style>\n",
       "<table border=\"1\" class=\"dataframe\">\n",
       "  <thead>\n",
       "    <tr style=\"text-align: right;\">\n",
       "      <th></th>\n",
       "      <th>Series_Title</th>\n",
       "      <th>Released_Year</th>\n",
       "      <th>Genre</th>\n",
       "      <th>Runtime</th>\n",
       "      <th>IMDB_Rating</th>\n",
       "      <th>Director</th>\n",
       "      <th>No_of_Votes</th>\n",
       "      <th>Gross</th>\n",
       "      <th>Stars</th>\n",
       "      <th>minuteCost</th>\n",
       "    </tr>\n",
       "  </thead>\n",
       "  <tbody>\n",
       "    <tr>\n",
       "      <th>194</th>\n",
       "      <td>Sherlock Jr.</td>\n",
       "      <td>1924.0</td>\n",
       "      <td>[Action, Comedy, Romance]</td>\n",
       "      <td>45</td>\n",
       "      <td>8.2</td>\n",
       "      <td>Buster Keaton</td>\n",
       "      <td>41985</td>\n",
       "      <td>977375.0</td>\n",
       "      <td>[Buster Keaton, Kathryn McGuire, Joe Keaton, E...</td>\n",
       "      <td>21719.444444</td>\n",
       "    </tr>\n",
       "  </tbody>\n",
       "</table>\n",
       "</div>"
      ],
      "text/plain": [
       "     Series_Title  Released_Year                      Genre  Runtime  \\\n",
       "194  Sherlock Jr.         1924.0  [Action, Comedy, Romance]       45   \n",
       "\n",
       "     IMDB_Rating       Director  No_of_Votes     Gross  \\\n",
       "194          8.2  Buster Keaton        41985  977375.0   \n",
       "\n",
       "                                                 Stars    minuteCost  \n",
       "194  [Buster Keaton, Kathryn McGuire, Joe Keaton, E...  21719.444444  "
      ]
     },
     "execution_count": 434,
     "metadata": {},
     "output_type": "execute_result"
    }
   ],
   "source": [
    "# Самый короткий фильм\n",
    "minlen = mv['Runtime'].min()\n",
    "mv.loc[mv['Runtime'] == minlen]"
   ]
  },
  {
   "cell_type": "code",
   "execution_count": 385,
   "metadata": {},
   "outputs": [
    {
     "data": {
      "text/plain": [
       "122.891"
      ]
     },
     "execution_count": 385,
     "metadata": {},
     "output_type": "execute_result"
    }
   ],
   "source": [
    "# Средняя длительность фильмов\n",
    "mv['Runtime'].mean()"
   ]
  },
  {
   "cell_type": "code",
   "execution_count": 386,
   "metadata": {},
   "outputs": [
    {
     "data": {
      "text/plain": [
       "119.0"
      ]
     },
     "execution_count": 386,
     "metadata": {},
     "output_type": "execute_result"
    }
   ],
   "source": [
    "mv['Runtime'].median()"
   ]
  },
  {
   "cell_type": "code",
   "execution_count": 433,
   "metadata": {},
   "outputs": [],
   "source": [
    "# Стоимость минуты\n",
    "# mv['Gross']/mv['Runtime']\n",
    "mv['minuteCost']= mv['Gross']/mv['Runtime']\n",
    "# mask = mv['minuteCost'] != 'nan'\n",
    "# mv=mv[mask]\n",
    "# mv['minuteCost'].dtype\n",
    "# mv['minuteCost'].mean()\n",
    "# mmc = mv['minuteCost'].max()\n",
    "# mmc\n",
    "# mv.loc[mv['minuteCost'] == mmc]"
   ]
  },
  {
   "cell_type": "code",
   "execution_count": 432,
   "metadata": {},
   "outputs": [
    {
     "data": {
      "text/html": [
       "<div>\n",
       "<style scoped>\n",
       "    .dataframe tbody tr th:only-of-type {\n",
       "        vertical-align: middle;\n",
       "    }\n",
       "\n",
       "    .dataframe tbody tr th {\n",
       "        vertical-align: top;\n",
       "    }\n",
       "\n",
       "    .dataframe thead th {\n",
       "        text-align: right;\n",
       "    }\n",
       "</style>\n",
       "<table border=\"1\" class=\"dataframe\">\n",
       "  <thead>\n",
       "    <tr style=\"text-align: right;\">\n",
       "      <th></th>\n",
       "      <th>Series_Title</th>\n",
       "      <th>Released_Year</th>\n",
       "      <th>Genre</th>\n",
       "      <th>Runtime</th>\n",
       "      <th>IMDB_Rating</th>\n",
       "      <th>Director</th>\n",
       "      <th>No_of_Votes</th>\n",
       "      <th>Gross</th>\n",
       "      <th>Stars</th>\n",
       "      <th>minuteCost</th>\n",
       "    </tr>\n",
       "  </thead>\n",
       "  <tbody>\n",
       "  </tbody>\n",
       "</table>\n",
       "</div>"
      ],
      "text/plain": [
       "Empty DataFrame\n",
       "Columns: [Series_Title, Released_Year, Genre, Runtime, IMDB_Rating, Director, No_of_Votes, Gross, Stars, minuteCost]\n",
       "Index: []"
      ]
     },
     "execution_count": 432,
     "metadata": {},
     "output_type": "execute_result"
    }
   ],
   "source": [
    "maxMinCost = mv['minuteCost'].max()\n",
    "mv.loc[mv['minuteCost'] == maxMinCost]"
   ]
  },
  {
   "cell_type": "code",
   "execution_count": 431,
   "metadata": {},
   "outputs": [],
   "source": [
    "# maxMinCost = mv['minuteCost'].max()\n",
    "# mv.loc[mv['minuteCost'] == maxMinCost]"
   ]
  },
  {
   "cell_type": "code",
   "execution_count": 439,
   "metadata": {},
   "outputs": [
    {
     "data": {
      "text/html": [
       "<div>\n",
       "<style scoped>\n",
       "    .dataframe tbody tr th:only-of-type {\n",
       "        vertical-align: middle;\n",
       "    }\n",
       "\n",
       "    .dataframe tbody tr th {\n",
       "        vertical-align: top;\n",
       "    }\n",
       "\n",
       "    .dataframe thead th {\n",
       "        text-align: right;\n",
       "    }\n",
       "</style>\n",
       "<table border=\"1\" class=\"dataframe\">\n",
       "  <thead>\n",
       "    <tr style=\"text-align: right;\">\n",
       "      <th></th>\n",
       "      <th>Series_Title</th>\n",
       "      <th>Released_Year</th>\n",
       "      <th>Genre</th>\n",
       "      <th>Runtime</th>\n",
       "      <th>IMDB_Rating</th>\n",
       "      <th>Director</th>\n",
       "      <th>No_of_Votes</th>\n",
       "      <th>Gross</th>\n",
       "      <th>Stars</th>\n",
       "      <th>minuteCost</th>\n",
       "    </tr>\n",
       "  </thead>\n",
       "  <tbody>\n",
       "  </tbody>\n",
       "</table>\n",
       "</div>"
      ],
      "text/plain": [
       "Empty DataFrame\n",
       "Columns: [Series_Title, Released_Year, Genre, Runtime, IMDB_Rating, Director, No_of_Votes, Gross, Stars, minuteCost]\n",
       "Index: []"
      ]
     },
     "execution_count": 439,
     "metadata": {},
     "output_type": "execute_result"
    }
   ],
   "source": [
    "minMinCost = mv['minuteCost'].min()\n",
    "mv.loc[mv['minuteCost'] == minMinCost]"
   ]
  },
  {
   "cell_type": "code",
   "execution_count": 438,
   "metadata": {},
   "outputs": [],
   "source": [
    "meanMinCost = mv['minuteCost'].mean()\n",
    "mv.loc[mv['minuteCost'] > meanMinCost].shape[0]\n",
    "moreEffectiveMovies = mv.loc[mv['minuteCost'] > meanMinCost]"
   ]
  },
  {
   "cell_type": "code",
   "execution_count": 392,
   "metadata": {},
   "outputs": [
    {
     "data": {
      "text/html": [
       "<div>\n",
       "<style scoped>\n",
       "    .dataframe tbody tr th:only-of-type {\n",
       "        vertical-align: middle;\n",
       "    }\n",
       "\n",
       "    .dataframe tbody tr th {\n",
       "        vertical-align: top;\n",
       "    }\n",
       "\n",
       "    .dataframe thead th {\n",
       "        text-align: right;\n",
       "    }\n",
       "</style>\n",
       "<table border=\"1\" class=\"dataframe\">\n",
       "  <thead>\n",
       "    <tr style=\"text-align: right;\">\n",
       "      <th></th>\n",
       "      <th>Series_Title</th>\n",
       "      <th>Released_Year</th>\n",
       "      <th>Genre</th>\n",
       "      <th>Runtime</th>\n",
       "      <th>IMDB_Rating</th>\n",
       "      <th>Director</th>\n",
       "      <th>No_of_Votes</th>\n",
       "      <th>Gross</th>\n",
       "      <th>Stars</th>\n",
       "      <th>minuteCost</th>\n",
       "    </tr>\n",
       "  </thead>\n",
       "  <tbody>\n",
       "    <tr>\n",
       "      <th>151</th>\n",
       "      <td>Toy Story 3</td>\n",
       "      <td>2010.0</td>\n",
       "      <td>[Animation, Adventure, Comedy]</td>\n",
       "      <td>103</td>\n",
       "      <td>8.2</td>\n",
       "      <td>Lee Unkrich</td>\n",
       "      <td>757032</td>\n",
       "      <td>415004880.0</td>\n",
       "      <td>[Tom Hanks, Tim Allen, Joan Cusack, Ned Beatty]</td>\n",
       "      <td>4029173.592233</td>\n",
       "    </tr>\n",
       "  </tbody>\n",
       "</table>\n",
       "</div>"
      ],
      "text/plain": [
       "    Series_Title  Released_Year                           Genre  Runtime  \\\n",
       "151  Toy Story 3         2010.0  [Animation, Adventure, Comedy]      103   \n",
       "\n",
       "     IMDB_Rating     Director  No_of_Votes        Gross  \\\n",
       "151          8.2  Lee Unkrich       757032  415004880.0   \n",
       "\n",
       "                                               Stars      minuteCost  \n",
       "151  [Tom Hanks, Tim Allen, Joan Cusack, Ned Beatty]  4029173.592233  "
      ]
     },
     "execution_count": 392,
     "metadata": {},
     "output_type": "execute_result"
    }
   ],
   "source": [
    "# Самый кассовый фильм в 2010 году\n",
    "\n",
    "minYear = mv['Released_Year'].min()\n",
    "maxYear = mv['Released_Year'].max()\n",
    "minYear,maxYear\n",
    "\n",
    "m2010 = mv.loc[(mv['Released_Year'] == 2010)]\n",
    "max2010gross = m2010.loc[:, 'Gross'].max()\n",
    "m2010[m2010['Gross'] == max2010gross]"
   ]
  },
  {
   "cell_type": "code",
   "execution_count": 428,
   "metadata": {},
   "outputs": [
    {
     "data": {
      "text/plain": [
       "Series([], Name: Series_Title, dtype: string)"
      ]
     },
     "execution_count": 428,
     "metadata": {},
     "output_type": "execute_result"
    }
   ],
   "source": [
    "# (Название) Самый невыгодный фильм за 2015-2020 гг\n",
    "movies1520 = mv[(mv['Released_Year'] >=2015) & (mv['Released_Year'] <=2020)]\n",
    "movies1520MinminCost = movies1520['minuteCost'].min()\n",
    "movies1520.loc[movies1520['minuteCost'] == movies1520MinminCost, 'Series_Title']"
   ]
  },
  {
   "cell_type": "code",
   "execution_count": 429,
   "metadata": {},
   "outputs": [
    {
     "name": "stdout",
     "output_type": "stream",
     "text": [
      "Musical\n"
     ]
    }
   ],
   "source": [
    "# Самый Непопулярный жанр\n",
    "\n",
    "genresFreq = dict()\n",
    "def countMovieGenres(genresList):\n",
    "    for genre in genresList:\n",
    "        if genre in genresFreq.keys():\n",
    "            genresFreq[genre] +=1\n",
    "        else:\n",
    "            genresFreq[genre] = 1 \n",
    "    return genresList\n",
    "\n",
    "mv['Genre'].apply(countMovieGenres)\n",
    "# min(genresFreq.values())\n",
    "for (genre,count) in genresFreq.items():\n",
    "    if count == min(genresFreq.values()):\n",
    "        print(genre)"
   ]
  },
  {
   "cell_type": "code",
   "execution_count": 442,
   "metadata": {},
   "outputs": [],
   "source": [
    "# Самый популярный жанр среди фильмов с более чем средней стоимостью производства минуты\n",
    "genresFreq = dict()\n",
    "moreEffectiveMovies['Genre'].apply(countMovieGenres)\n",
    "\n",
    "for (genre,count) in genresFreq.items():\n",
    "    if count == min(genresFreq.values()):\n",
    "        print(genre)"
   ]
  },
  {
   "cell_type": "code",
   "execution_count": 449,
   "metadata": {},
   "outputs": [
    {
     "data": {
      "text/plain": [
       "Director\n",
       "Steven Spielberg    2.478133e+09\n",
       "Name: Gross, dtype: float64"
      ]
     },
     "execution_count": 449,
     "metadata": {},
     "output_type": "execute_result"
    }
   ],
   "source": [
    "# Режиссер с макс прибылью за свои картины\n",
    "dirGrossSum = mv.groupby(['Director'])['Gross'].sum() # набор строк кот. соотв. режиссеру\n",
    "maxDirGross = dirGrossSum.max()\n",
    "dirGrossSum.loc[dirGrossSum == maxDirGross]"
   ]
  },
  {
   "cell_type": "code",
   "execution_count": 453,
   "metadata": {},
   "outputs": [
    {
     "data": {
      "text/plain": [
       "Director\n",
       "Hayao Miyazaki    11\n",
       "Name: Genre, dtype: int64"
      ]
     },
     "execution_count": 453,
     "metadata": {},
     "output_type": "execute_result"
    }
   ],
   "source": [
    "#Режиссер, снявший больше всего анимационных фильмов\n",
    "def genresListofDict(genresList):\n",
    "    genresFreq = dict()\n",
    "    for genre in genresList:\n",
    "        if genre in genresFreq.keys():\n",
    "            genresFreq[genre] +=1\n",
    "        else:\n",
    "            genresFreq[genre] = 1 \n",
    "    return genresFreq\n",
    "    \n",
    "def countAnimationGenre(seriesOfGenreList):\n",
    "    animationCounter = 0\n",
    "    for genreList in seriesOfGenreList.apply(genresListofDict):\n",
    "        if 'Animation' in genreList:\n",
    "            animationCounter+=1\n",
    "    return animationCounter\n",
    "\n",
    "animationMoviesDirectors = mv.groupby(['Director'])['Genre'].agg(countAnimationGenre)\n",
    "maxAnim = animationMoviesDirectors.max()\n",
    "animationMoviesDirectors.loc[animationMoviesDirectors == maxAnim]"
   ]
  },
  {
   "cell_type": "code",
   "execution_count": null,
   "metadata": {},
   "outputs": [],
   "source": []
  }
 ],
 "metadata": {
  "kernelspec": {
   "display_name": "Python 3.9.12 ('base')",
   "language": "python",
   "name": "python3"
  },
  "language_info": {
   "codemirror_mode": {
    "name": "ipython",
    "version": 3
   },
   "file_extension": ".py",
   "mimetype": "text/x-python",
   "name": "python",
   "nbconvert_exporter": "python",
   "pygments_lexer": "ipython3",
   "version": "3.9.12"
  },
  "orig_nbformat": 4,
  "vscode": {
   "interpreter": {
    "hash": "2abd967d4902f01c8018ff42f9bea56f1709990c53c91607e6778796842114b4"
   }
  }
 },
 "nbformat": 4,
 "nbformat_minor": 2
}
